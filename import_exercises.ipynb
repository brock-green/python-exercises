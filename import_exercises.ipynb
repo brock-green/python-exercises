{
 "cells": [
  {
   "cell_type": "code",
   "execution_count": 36,
   "id": "bf452c04-67df-46fa-a9b9-c4fff30c8962",
   "metadata": {},
   "outputs": [
    {
     "data": {
      "text/plain": [
       "'B'"
      ]
     },
     "execution_count": 36,
     "metadata": {},
     "output_type": "execute_result"
    }
   ],
   "source": [
    "from function_exercises import get_letter_grade as lttrgrd\n",
    "lttrgrd(87)"
   ]
  },
  {
   "cell_type": "markdown",
   "id": "9a14e0f4-bb24-45b1-85a9-aed1b1376cc1",
   "metadata": {
    "tags": []
   },
   "source": [
    "#### 2.Read about and use the itertools module from the python standard library to help you solve the following problems. Note: Many of these functions in this library return an object, to see the results of the function, cast this object as a list.\n",
    " - How many different ways can you combine a single letter from \"abc\" with either 1, 2, or 3? ANSWER: 9\n",
    " - How many different combinations are there of 2 letters from \"abcd\"? ANSWER: 6\n",
    " - How many different permutations are there of 2 letters from \"abcd\"? ANSWER: 12"
   ]
  },
  {
   "cell_type": "code",
   "execution_count": 256,
   "id": "f823b9cc-11f8-4272-af04-1e05106f5669",
   "metadata": {
    "tags": []
   },
   "outputs": [
    {
     "name": "stdout",
     "output_type": "stream",
     "text": [
      "9\n",
      "6\n",
      "12\n"
     ]
    }
   ],
   "source": [
    "from itertools import product, combinations, permutations\n",
    "print(len(list(product('abc', '123'))))\n",
    "print(len(list(combinations('abcd', 2))))\n",
    "print(len(list(permutations('abcd', 2))))"
   ]
  },
  {
   "cell_type": "markdown",
   "id": "7107283a-c586-41e0-8550-8bb11667be38",
   "metadata": {},
   "source": [
    "#### 3. Save this file as profiles.json inside of your exercises directory (right click -> save file as...). Use the load function from the json module to open this file.\n",
    "\n",
    "Your code should produce a list of dictionaries. Using this data, write some code that calculates and outputs the following information:\n",
    "\n",
    " - Total number of users ANSWER: 19\n",
    " - Number of active users ANSWER: 9\n",
    " - Number of inactive users ANSWER: 10\n",
    " - Grand total of balances for all users ANSWER: 52667.02\n",
    " - Average balance per user ANSWER: 2771.95\n",
    " - User with the lowest balance ANSWER:'Avery Flynn'\n",
    " - User with the highest balance ANSWER: 'Fay Hammond'\n",
    " - Most common favorite fruit ANSWER: strawberry\n",
    " - Least most common favorite fruit ANSWER: banana\n",
    " - Total number of unread messages for all users ANSWER: 210"
   ]
  },
  {
   "cell_type": "code",
   "execution_count": 265,
   "id": "aa024f79-c9c5-4964-9475-b65078a7786d",
   "metadata": {
    "tags": []
   },
   "outputs": [],
   "source": [
    "import json"
   ]
  },
  {
   "cell_type": "code",
   "execution_count": 266,
   "id": "2f67d86b-065f-40fa-8b2d-6a1d4e83def6",
   "metadata": {
    "tags": []
   },
   "outputs": [],
   "source": [
    "with open('profiles.json', 'r') as f:\n",
    "    d = json.load(f)"
   ]
  },
  {
   "cell_type": "code",
   "execution_count": 271,
   "id": "4146d44a-278f-4013-ae9d-7fe407bff096",
   "metadata": {
    "tags": []
   },
   "outputs": [
    {
     "name": "stdout",
     "output_type": "stream",
     "text": [
      "The number of users is 19\n"
     ]
    }
   ],
   "source": [
    "print(f'The number of users is {len(d)}')"
   ]
  },
  {
   "cell_type": "code",
   "execution_count": 273,
   "id": "e949049f-8508-4f7d-8b1e-62b6d95bf8d2",
   "metadata": {
    "tags": []
   },
   "outputs": [
    {
     "name": "stdout",
     "output_type": "stream",
     "text": [
      "The number of active users is 9\n"
     ]
    }
   ],
   "source": [
    "# Active users method 1\n",
    "active = []\n",
    "for value in d:\n",
    "    if value['isActive'] == True:\n",
    "        active.append(value['isActive'])\n",
    "print(f'The number of active users is {len(active)}')"
   ]
  },
  {
   "cell_type": "code",
   "execution_count": 278,
   "id": "9f94cd24-1ebd-414c-9be0-9f6a1c106672",
   "metadata": {
    "tags": []
   },
   "outputs": [
    {
     "name": "stdout",
     "output_type": "stream",
     "text": [
      "Number of active users is 9\n"
     ]
    }
   ],
   "source": [
    "# Active users method 2\n",
    "numactive = 0\n",
    "for profile in d:\n",
    "    if profile['isActive']:\n",
    "               numactive += 1\n",
    "print(f'Number of active users is {numactive}')"
   ]
  },
  {
   "cell_type": "code",
   "execution_count": 284,
   "id": "f20bd3c7-6543-4cb2-987c-2d8d94960bfa",
   "metadata": {
    "tags": []
   },
   "outputs": [
    {
     "name": "stdout",
     "output_type": "stream",
     "text": [
      "The number of inactive users is 10\n"
     ]
    }
   ],
   "source": [
    "# Inactive users\n",
    "non_active = []\n",
    "for value in d:\n",
    "    if value['isActive'] == False:\n",
    "        non_active.append(value['isActive'])\n",
    "print(f'The number of inactive users is {len(non_active)}')"
   ]
  },
  {
   "cell_type": "code",
   "execution_count": 285,
   "id": "a86f0b87-fdc2-45df-a0ae-1359af289ea9",
   "metadata": {
    "tags": []
   },
   "outputs": [
    {
     "data": {
      "text/plain": [
       "52667.02"
      ]
     },
     "execution_count": 285,
     "metadata": {},
     "output_type": "execute_result"
    }
   ],
   "source": [
    "# Balance\n",
    "balance = []\n",
    "for value in d:\n",
    "    balance.append(value['balance'].strip('$').replace(',', ''))\n",
    "bal_float = list(map(float, balance))\n",
    "grand_total = sum(bal_float)\n",
    "grand_total"
   ]
  },
  {
   "cell_type": "code",
   "execution_count": 270,
   "id": "69176a86-1288-4d5e-a415-523641050d7e",
   "metadata": {
    "tags": []
   },
   "outputs": [
    {
     "data": {
      "text/plain": [
       "2771.95"
      ]
     },
     "execution_count": 270,
     "metadata": {},
     "output_type": "execute_result"
    }
   ],
   "source": [
    "round(grand_total/(len(balance)), 2)"
   ]
  },
  {
   "cell_type": "code",
   "execution_count": 230,
   "id": "5c6061a2-a369-400e-92c8-46ed8f6a67e2",
   "metadata": {
    "tags": []
   },
   "outputs": [
    {
     "data": {
      "text/plain": [
       "'Avery Flynn'"
      ]
     },
     "execution_count": 230,
     "metadata": {},
     "output_type": "execute_result"
    }
   ],
   "source": [
    "d[bal_float.index(min(bal_float))]['name']"
   ]
  },
  {
   "cell_type": "code",
   "execution_count": 232,
   "id": "7db95008-c023-4c86-b416-96260eba24e0",
   "metadata": {
    "tags": []
   },
   "outputs": [
    {
     "data": {
      "text/plain": [
       "'Fay Hammond'"
      ]
     },
     "execution_count": 232,
     "metadata": {},
     "output_type": "execute_result"
    }
   ],
   "source": [
    "d[bal_float.index(max(bal_float))]['name']"
   ]
  },
  {
   "cell_type": "code",
   "execution_count": 288,
   "id": "166bdff6-ae7a-45cf-8322-f4a88afb4608",
   "metadata": {
    "tags": []
   },
   "outputs": [
    {
     "data": {
      "text/plain": [
       "{'strawberry': 9, 'apple': 6, 'banana': 4}"
      ]
     },
     "execution_count": 288,
     "metadata": {},
     "output_type": "execute_result"
    }
   ],
   "source": [
    "# make a dictionary to get each fruit and a counter\n",
    "# initialize an empty dictionary:\n",
    "fav_fruits = {}\n",
    "for profile in d:\n",
    "    if profile['favoriteFruit'] not in fav_fruits.keys():\n",
    "        fav_fruits[profile['favoriteFruit']] = 1\n",
    "    else:\n",
    "        fav_fruits[profile['favoriteFruit']] += 1\n",
    "fav_fruits"
   ]
  },
  {
   "cell_type": "code",
   "execution_count": 297,
   "id": "764f3892-980d-4883-b81f-c876f7c546e9",
   "metadata": {
    "tags": []
   },
   "outputs": [],
   "source": [
    "def get_unreads(user_greeting):\n",
    "    my_unreads = ''\n",
    "    for letter in user_greeting:\n",
    "        if letter.isdigit():\n",
    "            my_unreads += letter\n",
    "    return int(my_unreads)"
   ]
  },
  {
   "cell_type": "code",
   "execution_count": 298,
   "id": "c2c3fcd6-ba4a-4552-a9e6-01f71f19f265",
   "metadata": {
    "tags": []
   },
   "outputs": [
    {
     "data": {
      "text/plain": [
       "210"
      ]
     },
     "execution_count": 298,
     "metadata": {},
     "output_type": "execute_result"
    }
   ],
   "source": [
    "sum([get_unreads(profile['greeting']) for profile in d])"
   ]
  }
 ],
 "metadata": {
  "kernelspec": {
   "display_name": "Python 3 (ipykernel)",
   "language": "python",
   "name": "python3"
  },
  "language_info": {
   "codemirror_mode": {
    "name": "ipython",
    "version": 3
   },
   "file_extension": ".py",
   "mimetype": "text/x-python",
   "name": "python",
   "nbconvert_exporter": "python",
   "pygments_lexer": "ipython3",
   "version": "3.11.3"
  }
 },
 "nbformat": 4,
 "nbformat_minor": 5
}
