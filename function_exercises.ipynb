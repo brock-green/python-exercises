{
 "cells": [
  {
   "cell_type": "markdown",
   "id": "f539e19d-a7ec-4fa2-9e05-e9bfc29c766d",
   "metadata": {},
   "source": [
    "#### 1. Define a function named is_two. It should accept one input and return True if the passed input is either the number or the string 2, False otherwise.\n"
   ]
  },
  {
   "cell_type": "code",
   "execution_count": 129,
   "id": "e6dabaee-1a00-4842-9ac5-b897d71a1875",
   "metadata": {
    "tags": []
   },
   "outputs": [],
   "source": [
    "def is_two(x):\n",
    "    '''\n",
    "    is_two determines if the input is the number 2. This can be a string or a numerical 2.\n",
    "    \n",
    "    return: boolean\n",
    "    '''\n",
    "    return x == 2 or x == '2'"
   ]
  },
  {
   "cell_type": "markdown",
   "id": "53848a18-5cd5-43c5-8f04-b98e5d8c86bc",
   "metadata": {},
   "source": [
    "#### 2. Define a function named is_vowel. It should return True if the passed string is a vowel, False otherwise.\n"
   ]
  },
  {
   "cell_type": "code",
   "execution_count": 156,
   "id": "79653b3c-e70a-45ad-b244-3f447e74db76",
   "metadata": {
    "tags": []
   },
   "outputs": [
    {
     "data": {
      "text/plain": [
       "False"
      ]
     },
     "execution_count": 156,
     "metadata": {},
     "output_type": "execute_result"
    }
   ],
   "source": [
    "def is_vowel(string):\n",
    "    '''\n",
    "    is_vowel determines if the input string is a vowel: (it is a single letter and in a, e, i, o, u)\n",
    "    \n",
    "    return: boolean\n",
    "    '''\n",
    "    string = string.lower()\n",
    "    return string == 'a' or string == 'e' or string == 'i' or string == 'o' or string == 'u'\n",
    "is_vowel('b')"
   ]
  },
  {
   "cell_type": "markdown",
   "id": "06a2949f-3bc1-4d26-8b19-b63aecc0e9d4",
   "metadata": {},
   "source": [
    "#### 3. Define a function named is_consonant. It should return True if the passed string is a consonant, False otherwise. Use your is_vowel function to accomplish this.\n"
   ]
  },
  {
   "cell_type": "code",
   "execution_count": 159,
   "id": "ecee1175-3820-40dd-8cdc-bbc11bcf2079",
   "metadata": {
    "tags": []
   },
   "outputs": [
    {
     "data": {
      "text/plain": [
       "True"
      ]
     },
     "execution_count": 159,
     "metadata": {},
     "output_type": "execute_result"
    }
   ],
   "source": [
    "def is_consonant(string):\n",
    "    '''\n",
    "    is_consonant determines if the input is a single nonvowel letter\n",
    "    return: boolean\n",
    "    '''\n",
    "    return is_vowel(string[0]) != True and string[0].isalpha()\n",
    "is_consonant('b')"
   ]
  },
  {
   "cell_type": "markdown",
   "id": "5c0beaa3-3e37-45e1-908e-9d0bcd66d9a9",
   "metadata": {},
   "source": [
    "#### 4. Define a function that accepts a string that is a word. The function should capitalize the first letter of the word if the word starts with a consonant.\n"
   ]
  },
  {
   "cell_type": "code",
   "execution_count": 160,
   "id": "884a1846-3aa5-475f-a8b3-a70440719a88",
   "metadata": {
    "tags": []
   },
   "outputs": [],
   "source": [
    "def cap_consonant(word):\n",
    "    '''\n",
    "    cap_consonant capitalizes the first letter of the input if it is a consonant.\n",
    "    return: string. If the input starts with a consonant it is returned with the first letter capitalized. \n",
    "    If it does not begin with a consonant the input is returned unchanged.\n",
    "    '''\n",
    "    if is_consonant(word[0]):\n",
    "        return word.capitalize()\n",
    "    else:\n",
    "        return word"
   ]
  },
  {
   "cell_type": "markdown",
   "id": "e4dcc0fb-45b8-47ed-9b7a-f4b108f1dee1",
   "metadata": {},
   "source": [
    "#### 5. Define a function named calculate_tip. It should accept a tip percentage (a number between 0 and 1) and the bill total, and return the amount to tip.\n"
   ]
  },
  {
   "cell_type": "code",
   "execution_count": 163,
   "id": "64501f6d-b6cc-45ef-91c7-6df8c6006274",
   "metadata": {
    "tags": []
   },
   "outputs": [
    {
     "name": "stdin",
     "output_type": "stream",
     "text": [
      "What is the bill total: $ 55\n",
      "What percentage would you like to tip? .2\n"
     ]
    },
    {
     "data": {
      "text/plain": [
       "str"
      ]
     },
     "execution_count": 163,
     "metadata": {},
     "output_type": "execute_result"
    }
   ],
   "source": [
    "def calculate_tip():\n",
    "    '''\n",
    "    calculate_tip: prompts the user for a total bill amount and tip percentage and calculates total tip.\n",
    "    return: string in the form ($__)\n",
    "    '''\n",
    "    bill_total = float(input('What is the bill total: $'))\n",
    "    tip_percentage = float(input('What percentage would you like to tip?'))\n",
    "    return (f' $ {round(bill_total * tip_percentage, 2)} ')\n",
    "calculate_tip()"
   ]
  },
  {
   "cell_type": "markdown",
   "id": "3c250ce1-ab2b-4b33-a392-9c8151362826",
   "metadata": {},
   "source": [
    "#### 6. Define a function named apply_discount. It should accept a original price, and a discount percentage, and return the price after the discount is applied.\n"
   ]
  },
  {
   "cell_type": "code",
   "execution_count": 164,
   "id": "1d6d0ce1-7dbc-4c6f-bf0f-b7708f2105e9",
   "metadata": {
    "tags": []
   },
   "outputs": [
    {
     "name": "stdin",
     "output_type": "stream",
     "text": [
      "What is the price of the item: $ 55\n",
      "What is the discount percentage? .5\n"
     ]
    },
    {
     "data": {
      "text/plain": [
       "' $ 27.5'"
      ]
     },
     "execution_count": 164,
     "metadata": {},
     "output_type": "execute_result"
    }
   ],
   "source": [
    "def apply_discount():\n",
    "    '''\n",
    "    apply_discount(): prompts the user for an item price and the discount percentage and calculates the price after \n",
    "    the discount is applied.\n",
    "    \n",
    "    return: string in the form ($__)\n",
    "    '''\n",
    "    price = float(input('What is the price of the item: $'))\n",
    "    discount_percent = float(input('What is the discount percentage?'))\n",
    "    return (f' $ {round(price - (price * discount_percent), 2)}')\n",
    "apply_discount()"
   ]
  },
  {
   "cell_type": "markdown",
   "id": "345b19dc-c1e9-406b-ab50-dc1299aded20",
   "metadata": {},
   "source": [
    "#### 7. Define a function named handle_commas. It should accept a string that is a number that contains commas in it as input, and return a number as output.\n"
   ]
  },
  {
   "cell_type": "code",
   "execution_count": 169,
   "id": "50d15e11-d8a0-4357-87d9-936c158f4399",
   "metadata": {
    "tags": []
   },
   "outputs": [],
   "source": [
    "def handle_commas(string):\n",
    "    '''\n",
    "    handle_commas(): accepts a string that is a number and removes any commas. \n",
    "    \n",
    "    return: int\n",
    "    '''\n",
    "    return int(string.replace(',', ''))"
   ]
  },
  {
   "cell_type": "markdown",
   "id": "85e7004f-23c8-473e-b651-b476477258dc",
   "metadata": {},
   "source": [
    "#### 8. Define a function named get_letter_grade. It should accept a number and return the letter grade associated with that number (A-F).\n"
   ]
  },
  {
   "cell_type": "code",
   "execution_count": 181,
   "id": "ad96a994-92b1-4da6-8cf9-2c3542179658",
   "metadata": {
    "tags": []
   },
   "outputs": [],
   "source": [
    "def get_letter_grade(num):\n",
    "    '''\n",
    "    get_letter_grade(): accepts a number and returns the letter grade associated with that number\n",
    "    \n",
    "    return: str\n",
    "    '''\n",
    "    if num >= 88:\n",
    "        return 'A'\n",
    "    elif num >= 80:\n",
    "        return 'B'\n",
    "    elif num >= 67:\n",
    "        return 'C'\n",
    "    elif num >= 60:\n",
    "        return 'D'\n",
    "    else:\n",
    "        return 'F'\n"
   ]
  },
  {
   "cell_type": "markdown",
   "id": "7ca8b9cf-cf4d-41e7-9311-80b991e66458",
   "metadata": {},
   "source": [
    "#### 9. Define a function named remove_vowels that accepts a string and returns a string with all the vowels removed.\n"
   ]
  },
  {
   "cell_type": "code",
   "execution_count": 184,
   "id": "4e3ebc06-0671-40c9-89e3-af7c8c0aa876",
   "metadata": {
    "tags": []
   },
   "outputs": [
    {
     "data": {
      "text/plain": [
       "'Hll thr'"
      ]
     },
     "execution_count": 184,
     "metadata": {},
     "output_type": "execute_result"
    }
   ],
   "source": [
    "def remove_vowels(string):\n",
    "    '''\n",
    "    remove_vowels(): removes all vowels from the string\n",
    "    \n",
    "    return: str\n",
    "    '''\n",
    "    vowels = ['a','e','i','o','u']\n",
    "    result = [letter for letter in string if letter.lower() not in vowels]\n",
    "    result = ''.join(result)\n",
    "    return result\n",
    "remove_vowels('Hello there')"
   ]
  },
  {
   "cell_type": "markdown",
   "id": "c29c613a-f08d-45a1-8c62-3261be48a3b9",
   "metadata": {
    "tags": []
   },
   "source": [
    "#### 10. Define a function named normalize_name. It should accept a string and return a valid python identifier, that is:\n",
    " - anything that is not a valid python identifier should be removed\n",
    " - leading and trailing whitespace should be removed\n",
    " - everything should be lowercase\n",
    " - spaces should be replaced with underscores\n",
    " - for example:\n",
    "    - Name will become name\n",
    "    - First Name will become first_name\n",
    "    - % Completed will become completed"
   ]
  },
  {
   "cell_type": "code",
   "execution_count": 217,
   "id": "088b57b7-907d-4f3e-a17a-cf315fef7d40",
   "metadata": {
    "tags": []
   },
   "outputs": [
    {
     "data": {
      "text/plain": [
       "'first_name'"
      ]
     },
     "execution_count": 217,
     "metadata": {},
     "output_type": "execute_result"
    }
   ],
   "source": [
    "def normalize_name(string):\n",
    "    '''\n",
    "    normalize_name(): accepts a string and removes: invalid python identifiers, leading and trailing whitespace. \n",
    "    String is made lowercase and internal whitespace is relaced with underscores\n",
    "    \n",
    "    return: string\n",
    "    '''\n",
    "    string = [letter for letter in string if letter not in '!@#$%^&*']\n",
    "    string = ''.join(string)\n",
    "    return string.strip().lower().replace(' ', '_')\n",
    "normalize_name('First NAME!')"
   ]
  },
  {
   "cell_type": "markdown",
   "id": "af9e3517-040a-4cf2-bf4c-00778bb1a2b4",
   "metadata": {
    "tags": []
   },
   "source": [
    "#### 11. Write a function named cumulative_sum that accepts a list of numbers and returns a list that is the cumulative sum of the numbers in the list.\n",
    " - cumulative_sum([1, 1, 1]) returns [1, 2, 3]\n",
    " - cumulative_sum([1, 2, 3, 4]) returns [1, 3, 6, 10]"
   ]
  },
  {
   "cell_type": "code",
   "execution_count": 227,
   "id": "2dad04b9-d0b3-41ee-926f-144cddb51bea",
   "metadata": {
    "tags": []
   },
   "outputs": [],
   "source": [
    "def cumulative_sum(lists):\n",
    "    '''\n",
    "    cumulative_sum(): accepts a list of numbers and returns a new list with the cumulative some of each i in the input list.\n",
    "    \n",
    "    return: list\n",
    "    '''\n",
    "    mynewlist, num_sum = [], 0\n",
    "    for i in lists:\n",
    "        num_sum += i\n",
    "        mynewlist.append(num_sum)\n",
    "    return mynewlist"
   ]
  }
 ],
 "metadata": {
  "kernelspec": {
   "display_name": "Python 3 (ipykernel)",
   "language": "python",
   "name": "python3"
  },
  "language_info": {
   "codemirror_mode": {
    "name": "ipython",
    "version": 3
   },
   "file_extension": ".py",
   "mimetype": "text/x-python",
   "name": "python",
   "nbconvert_exporter": "python",
   "pygments_lexer": "ipython3",
   "version": "3.11.3"
  }
 },
 "nbformat": 4,
 "nbformat_minor": 5
}
