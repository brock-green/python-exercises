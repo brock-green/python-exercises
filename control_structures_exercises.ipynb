{
 "cells": [
  {
   "cell_type": "markdown",
   "id": "d5a62313-c226-42c8-9304-32f5672c193a",
   "metadata": {},
   "source": [
    "#### Do your work for this exercise in a file named control_structures_exercises.py or control_structures_exercises.ipynb.\n"
   ]
  },
  {
   "cell_type": "markdown",
   "id": "36053bbc-a71e-4599-8cd4-378c03db34f4",
   "metadata": {},
   "source": [
    "#### 1.Conditional Basics\n",
    "\n",
    "##### a. Prompt the user for a day of the week, print out whether the day is Monday or not\n",
    "\n",
    "##### b. Prompt the user for a day of the week, print out whether the day is a weekday or a weekend\n",
    "\n",
    "##### c. Calculate a weekly paycheck, accounting for overtime pay. Create variables and make up values for:\n",
    "\n",
    " - The number of hours worked in one week\n",
    " - The hourly rate\n",
    "##### For calculating pay:\n",
    "\n",
    " - For working 40 hours or less, each hour is paid at the hourly rate\n",
    " - For working more than 40 hours\n",
    "\n",
    "        - the first 40 hours are paid at the hourly rate\n",
    "\n",
    "        - each hour after 40 is paid at time and a half (hourly rate * 1.5)"
   ]
  },
  {
   "cell_type": "markdown",
   "id": "e9411445-5612-42c0-8bc6-3dd96fbdcb09",
   "metadata": {
    "tags": []
   },
   "source": [
    "# a.\n",
    "weekvar = input('What day of the week is it?')\n",
    "if weekvar.lower() == 'monday':\n",
    "    print('Today is Monday.')\n",
    "elif weekvar.lower() != 'monday':\n",
    "    print('Today is not Monday.')"
   ]
  },
  {
   "cell_type": "code",
   "execution_count": 16,
   "id": "0ba62666-81bd-4f3c-94b8-2788d71a371a",
   "metadata": {
    "tags": []
   },
   "outputs": [
    {
     "name": "stdin",
     "output_type": "stream",
     "text": [
      "What day of the week is it? \n"
     ]
    },
    {
     "name": "stdout",
     "output_type": "stream",
     "text": [
      "Please check for typos and try again\n"
     ]
    }
   ],
   "source": [
    "# b.\n",
    "dow = input('What day of the week is it?')\n",
    "if dow.lower() == ('monday' or 'tuesday' or 'wednesday' or 'thursday' or 'friday'):\n",
    "    print('Today is a weekday.')\n",
    "elif dow.lower() == ('saturday' or 'sunday'):\n",
    "    print('It is the weekend.')\n",
    "else:\n",
    "    print('Please check for typos and try again')"
   ]
  },
  {
   "cell_type": "code",
   "execution_count": 20,
   "id": "4e78ded6-5831-44ea-951a-f4e2abd05109",
   "metadata": {
    "tags": []
   },
   "outputs": [
    {
     "data": {
      "text/plain": [
       "1300.0"
      ]
     },
     "execution_count": 20,
     "metadata": {},
     "output_type": "execute_result"
    }
   ],
   "source": [
    "# c. \n",
    "hours_worked = 50\n",
    "hourly_rate = 20\n",
    "ot_multiplier = 1.5\n",
    "if hours_worked <= 40 and hours_worked > 0:\n",
    "    paycheck = hours_worked * hourly_rate\n",
    "elif hours_worked > 40:\n",
    "    paycheck = (hours_worked - 40) * ot_multiplier * hourly_rate + hours_worked * hourly_rate \n",
    "else:\n",
    "    print('Please check for typos and try again')\n",
    "paycheck"
   ]
  },
  {
   "cell_type": "markdown",
   "id": "43d6c596-c344-43cb-af7d-6a9999f92e43",
   "metadata": {
    "tags": []
   },
   "source": [
    "#### 2. Loop Basics"
   ]
  },
  {
   "cell_type": "markdown",
   "id": "187f5106-700d-46c5-aba1-8da2318ece23",
   "metadata": {},
   "source": [
    "##### a. While\n",
    "\n"
   ]
  },
  {
   "cell_type": "code",
   "execution_count": 24,
   "id": "d405c340-df36-4e93-ab95-db87736ae084",
   "metadata": {
    "tags": []
   },
   "outputs": [
    {
     "name": "stdout",
     "output_type": "stream",
     "text": [
      "5\n",
      "6\n",
      "7\n",
      "8\n",
      "9\n",
      "10\n",
      "11\n",
      "12\n",
      "13\n",
      "14\n",
      "15\n"
     ]
    }
   ],
   "source": [
    "# i. Create an integer variable i with a value of 5. \n",
    "#Create a while loop that runs so long as i is less than or equal to 15. \n",
    "#Each loop iteration, output the current value of i, then increment i by one.\n",
    "\n",
    "i = 5\n",
    "while i <= 15:\n",
    "    print(i)\n",
    "    i += 1"
   ]
  },
  {
   "cell_type": "code",
   "execution_count": 26,
   "id": "89bd0587-c5e1-42d4-85ed-5aa5a970e26d",
   "metadata": {
    "tags": []
   },
   "outputs": [
    {
     "name": "stdout",
     "output_type": "stream",
     "text": [
      "2\n",
      "4\n",
      "6\n",
      "8\n",
      "10\n",
      "12\n",
      "14\n",
      "16\n",
      "18\n",
      "20\n",
      "22\n",
      "24\n",
      "26\n",
      "28\n",
      "30\n",
      "32\n",
      "34\n",
      "36\n",
      "38\n",
      "40\n",
      "42\n",
      "44\n",
      "46\n",
      "48\n",
      "50\n",
      "52\n",
      "54\n",
      "56\n",
      "58\n",
      "60\n",
      "62\n",
      "64\n",
      "66\n",
      "68\n",
      "70\n",
      "72\n",
      "74\n",
      "76\n",
      "78\n",
      "80\n",
      "82\n",
      "84\n",
      "86\n",
      "88\n",
      "90\n",
      "92\n",
      "94\n",
      "96\n",
      "98\n",
      "100\n"
     ]
    }
   ],
   "source": [
    "# ii. Create a while loop that will count by 2's starting with 0 and ending at 100.\n",
    "#Follow each number with a new line.\n",
    "i = 2\n",
    "while i <= 100:\n",
    "    print(i)\n",
    "    i += 2"
   ]
  },
  {
   "cell_type": "code",
   "execution_count": 28,
   "id": "e12088f6-1480-419d-9b3d-0908aa0d154d",
   "metadata": {
    "tags": []
   },
   "outputs": [
    {
     "name": "stdout",
     "output_type": "stream",
     "text": [
      "2\n",
      "4\n",
      "16\n",
      "256\n",
      "65536\n"
     ]
    }
   ],
   "source": [
    "# iii. Create a while loop that starts at 2, and displays the number squared on \n",
    "# each line while the number is less than 1,000,000. Output should equal:\n",
    "i = 2\n",
    "while i < 1000000:\n",
    "    print(i)\n",
    "    i = i ** 2"
   ]
  },
  {
   "cell_type": "code",
   "execution_count": 29,
   "id": "e223c2c8-dd68-4418-b61d-563867f85324",
   "metadata": {
    "tags": []
   },
   "outputs": [
    {
     "name": "stdout",
     "output_type": "stream",
     "text": [
      "100\n",
      "95\n",
      "90\n",
      "85\n",
      "80\n",
      "75\n",
      "70\n",
      "65\n",
      "60\n",
      "55\n",
      "50\n",
      "45\n",
      "40\n",
      "35\n",
      "30\n",
      "25\n",
      "20\n",
      "15\n",
      "10\n",
      "5\n"
     ]
    }
   ],
   "source": [
    "# iv. Write a while loop that uses print to create the output shown below.\n",
    "i = 100\n",
    "while i > 0:\n",
    "    print(i)\n",
    "    i = i - 5"
   ]
  },
  {
   "cell_type": "markdown",
   "id": "83763230-2df8-4b2c-88a7-8f44606bd1d8",
   "metadata": {},
   "source": [
    "##### b. For Loops"
   ]
  },
  {
   "cell_type": "code",
   "execution_count": 47,
   "id": "03e25fcd-a04c-469b-81e7-42876189335f",
   "metadata": {
    "tags": []
   },
   "outputs": [
    {
     "name": "stdin",
     "output_type": "stream",
     "text": [
      "Pick a multiplier for your multiplication table. 5\n"
     ]
    }
   ],
   "source": [
    "# i. Write some code using a for loop that prompts the user for a number, \n",
    "# then shows a multiplication table up through 10 for that number.\n",
    "multiplier = int(input('Pick a multiplier for your multiplication table.'))\n",
    "i = 1\n",
    "for i in range(1, 10):\n",
    "    result = multiplier * i\n",
    "    print( "
   ]
  }
 ],
 "metadata": {
  "kernelspec": {
   "display_name": "Python 3 (ipykernel)",
   "language": "python",
   "name": "python3"
  },
  "language_info": {
   "codemirror_mode": {
    "name": "ipython",
    "version": 3
   },
   "file_extension": ".py",
   "mimetype": "text/x-python",
   "name": "python",
   "nbconvert_exporter": "python",
   "pygments_lexer": "ipython3",
   "version": "3.11.3"
  }
 },
 "nbformat": 4,
 "nbformat_minor": 5
}
