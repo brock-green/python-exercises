{
 "cells": [
  {
   "cell_type": "markdown",
   "id": "d5a62313-c226-42c8-9304-32f5672c193a",
   "metadata": {},
   "source": [
    "#### Do your work for this exercise in a file named control_structures_exercises.py or control_structures_exercises.ipynb.\n"
   ]
  },
  {
   "cell_type": "markdown",
   "id": "36053bbc-a71e-4599-8cd4-378c03db34f4",
   "metadata": {},
   "source": [
    "### 1.Conditional Basics\n",
    "\n",
    "##### a. Prompt the user for a day of the week, print out whether the day is Monday or not\n",
    "\n",
    "##### b. Prompt the user for a day of the week, print out whether the day is a weekday or a weekend\n",
    "\n",
    "##### c. Calculate a weekly paycheck, accounting for overtime pay. Create variables and make up values for:\n",
    "\n",
    " - The number of hours worked in one week\n",
    " - The hourly rate\n",
    "##### For calculating pay:\n",
    "\n",
    " - For working 40 hours or less, each hour is paid at the hourly rate\n",
    " - For working more than 40 hours\n",
    "\n",
    "        - the first 40 hours are paid at the hourly rate\n",
    "\n",
    "        - each hour after 40 is paid at time and a half (hourly rate * 1.5)"
   ]
  },
  {
   "cell_type": "code",
   "execution_count": 73,
   "id": "a1c7b493-868b-46ff-91bb-2659f73e2d6d",
   "metadata": {
    "tags": []
   },
   "outputs": [
    {
     "name": "stdin",
     "output_type": "stream",
     "text": [
      "What day of the week is it? Tuesday\n"
     ]
    },
    {
     "name": "stdout",
     "output_type": "stream",
     "text": [
      "Today is not Monday.\n"
     ]
    }
   ],
   "source": [
    "# a.\n",
    "weekvar = input('What day of the week is it?')\n",
    "if weekvar.lower() == 'monday':\n",
    "    print('Today is Monday.')\n",
    "else:\n",
    "    print('Today is not Monday.')"
   ]
  },
  {
   "cell_type": "code",
   "execution_count": 74,
   "id": "0ba62666-81bd-4f3c-94b8-2788d71a371a",
   "metadata": {
    "tags": []
   },
   "outputs": [
    {
     "name": "stdin",
     "output_type": "stream",
     "text": [
      "What day of the week is it? Saturday\n"
     ]
    },
    {
     "name": "stdout",
     "output_type": "stream",
     "text": [
      "It is the weekend.\n"
     ]
    }
   ],
   "source": [
    "# b.\n",
    "dow = input('What day of the week is it?')\n",
    "if dow.lower() == ('monday' or 'tuesday' or 'wednesday' or 'thursday' or 'friday'):\n",
    "    print('Today is a weekday.')\n",
    "elif dow.lower() == ('saturday' or 'sunday'):\n",
    "    print('It is the weekend.')\n",
    "else:\n",
    "    print('Please check for typos and try again')"
   ]
  },
  {
   "cell_type": "code",
   "execution_count": 76,
   "id": "4e78ded6-5831-44ea-951a-f4e2abd05109",
   "metadata": {
    "tags": []
   },
   "outputs": [
    {
     "data": {
      "text/plain": [
       "1300.0"
      ]
     },
     "execution_count": 76,
     "metadata": {},
     "output_type": "execute_result"
    }
   ],
   "source": [
    "# c. \n",
    "hours_worked = 50\n",
    "hourly_rate = 20\n",
    "ot_multiplier = 1.5\n",
    "if hours_worked <= 40 and hours_worked > 0:\n",
    "    paycheck = hours_worked * hourly_rate\n",
    "elif hours_worked > 40:\n",
    "    paycheck = (hours_worked - 40) * ot_multiplier * hourly_rate + hours_worked * hourly_rate \n",
    "else:\n",
    "    print('Please check for typos and try again')\n",
    "paycheck"
   ]
  },
  {
   "cell_type": "markdown",
   "id": "43d6c596-c344-43cb-af7d-6a9999f92e43",
   "metadata": {
    "tags": []
   },
   "source": [
    "### 2. Loop Basics"
   ]
  },
  {
   "cell_type": "markdown",
   "id": "187f5106-700d-46c5-aba1-8da2318ece23",
   "metadata": {},
   "source": [
    "##### a. While\n",
    "\n"
   ]
  },
  {
   "cell_type": "code",
   "execution_count": 24,
   "id": "d405c340-df36-4e93-ab95-db87736ae084",
   "metadata": {
    "tags": []
   },
   "outputs": [
    {
     "name": "stdout",
     "output_type": "stream",
     "text": [
      "5\n",
      "6\n",
      "7\n",
      "8\n",
      "9\n",
      "10\n",
      "11\n",
      "12\n",
      "13\n",
      "14\n",
      "15\n"
     ]
    }
   ],
   "source": [
    "# i. Create an integer variable i with a value of 5. \n",
    "#Create a while loop that runs so long as i is less than or equal to 15. \n",
    "#Each loop iteration, output the current value of i, then increment i by one.\n",
    "\n",
    "i = 5\n",
    "while i <= 15:\n",
    "    print(i)\n",
    "    i += 1"
   ]
  },
  {
   "cell_type": "code",
   "execution_count": 3,
   "id": "89bd0587-c5e1-42d4-85ed-5aa5a970e26d",
   "metadata": {
    "tags": []
   },
   "outputs": [
    {
     "name": "stdout",
     "output_type": "stream",
     "text": [
      "0\n",
      "2\n",
      "4\n",
      "6\n",
      "8\n",
      "10\n",
      "12\n",
      "14\n",
      "16\n",
      "18\n",
      "20\n",
      "22\n",
      "24\n",
      "26\n",
      "28\n",
      "30\n",
      "32\n",
      "34\n",
      "36\n",
      "38\n",
      "40\n",
      "42\n",
      "44\n",
      "46\n",
      "48\n",
      "50\n",
      "52\n",
      "54\n",
      "56\n",
      "58\n",
      "60\n",
      "62\n",
      "64\n",
      "66\n",
      "68\n",
      "70\n",
      "72\n",
      "74\n",
      "76\n",
      "78\n",
      "80\n",
      "82\n",
      "84\n",
      "86\n",
      "88\n",
      "90\n",
      "92\n",
      "94\n",
      "96\n",
      "98\n",
      "100\n"
     ]
    }
   ],
   "source": [
    "# ii. Create a while loop that will count by 2's starting with 0 and ending at 100.\n",
    "#Follow each number with a new line.\n",
    "i = 0\n",
    "while i <= 100:\n",
    "    print(i)\n",
    "    i += 2"
   ]
  },
  {
   "cell_type": "code",
   "execution_count": 28,
   "id": "e12088f6-1480-419d-9b3d-0908aa0d154d",
   "metadata": {
    "tags": []
   },
   "outputs": [
    {
     "name": "stdout",
     "output_type": "stream",
     "text": [
      "2\n",
      "4\n",
      "16\n",
      "256\n",
      "65536\n"
     ]
    }
   ],
   "source": [
    "# iii. Create a while loop that starts at 2, and displays the number squared on \n",
    "# each line while the number is less than 1,000,000. Output should equal:\n",
    "i = 2\n",
    "while i < 1000000:\n",
    "    print(i)\n",
    "    i = i ** 2"
   ]
  },
  {
   "cell_type": "code",
   "execution_count": 18,
   "id": "92860964-1d51-4513-8109-85c84d93d57b",
   "metadata": {
    "tags": []
   },
   "outputs": [
    {
     "name": "stdout",
     "output_type": "stream",
     "text": [
      "100\n",
      "95\n",
      "90\n",
      "85\n",
      "80\n",
      "75\n",
      "70\n",
      "65\n",
      "60\n",
      "55\n",
      "50\n",
      "45\n",
      "40\n",
      "35\n",
      "30\n",
      "25\n",
      "20\n",
      "15\n",
      "10\n",
      "5\n"
     ]
    }
   ],
   "source": [
    "# iv. Write a while loop that uses print to create the output shown below.\n",
    "i = 100\n",
    "while i > 0:\n",
    "    print(i)\n",
    "    i = i - 5"
   ]
  },
  {
   "cell_type": "markdown",
   "id": "83763230-2df8-4b2c-88a7-8f44606bd1d8",
   "metadata": {},
   "source": [
    "##### b. For Loops"
   ]
  },
  {
   "cell_type": "code",
   "execution_count": 77,
   "id": "03e25fcd-a04c-469b-81e7-42876189335f",
   "metadata": {
    "tags": []
   },
   "outputs": [
    {
     "name": "stdin",
     "output_type": "stream",
     "text": [
      "Pick a multiplier for your multiplication table. 5\n"
     ]
    },
    {
     "name": "stdout",
     "output_type": "stream",
     "text": [
      " 5 x 1 = 5\n",
      " 5 x 2 = 10\n",
      " 5 x 3 = 15\n",
      " 5 x 4 = 20\n",
      " 5 x 5 = 25\n",
      " 5 x 6 = 30\n",
      " 5 x 7 = 35\n",
      " 5 x 8 = 40\n",
      " 5 x 9 = 45\n",
      " 5 x 10 = 50\n"
     ]
    }
   ],
   "source": [
    "# i. Write some code using a for loop that prompts the user for a number, \n",
    "# then shows a multiplication table up through 10 for that number.\n",
    "multiplier = int(input('Pick a multiplier for your multiplication table.'))\n",
    "i = 1\n",
    "for i in range(1, 11):\n",
    "    result = multiplier * i\n",
    "    print(f' {multiplier} x {i} = {result}')\n",
    "    #print(multiplier, \"x\", i, \"=\", result)"
   ]
  },
  {
   "cell_type": "code",
   "execution_count": 78,
   "id": "e8bbeae8-1200-40e3-a970-b8d26f13ec48",
   "metadata": {
    "tags": []
   },
   "outputs": [
    {
     "name": "stdout",
     "output_type": "stream",
     "text": [
      "1\n",
      "22\n",
      "333\n",
      "4444\n",
      "55555\n",
      "666666\n",
      "7777777\n",
      "88888888\n",
      "999999999\n"
     ]
    }
   ],
   "source": [
    "# ii.Create a for loop that uses print to create the output shown below.\n",
    "i = 1\n",
    "for i in range(1, 10):\n",
    "    print(str(i) * i)"
   ]
  },
  {
   "cell_type": "markdown",
   "id": "1ca4d333-d225-47ba-97a0-38e649380895",
   "metadata": {
    "tags": []
   },
   "source": [
    "##### C. break and continue"
   ]
  },
  {
   "cell_type": "code",
   "execution_count": 1,
   "id": "5feeeb7a-7b32-45c4-9038-96d709a53f5a",
   "metadata": {
    "tags": []
   },
   "outputs": [
    {
     "name": "stdin",
     "output_type": "stream",
     "text": [
      "Pick a positive integer. 5\n"
     ]
    },
    {
     "name": "stdout",
     "output_type": "stream",
     "text": [
      "5\n",
      "4\n",
      "3\n",
      "2\n",
      "1\n"
     ]
    }
   ],
   "source": [
    "# i. Write a program that prompts the user for a positive integer. \n",
    "# Next write a loop that prints out the numbers from the number the user entered down to 1.\n",
    "pos_int = int(input('Pick a positive integer.'))\n",
    "i = pos_int\n",
    "while i <= pos_int:\n",
    "    print(i)\n",
    "    i -= 1\n",
    "    if i < 1:\n",
    "        break"
   ]
  },
  {
   "cell_type": "code",
   "execution_count": 26,
   "id": "9a373ffa-f2ef-472f-9ce0-857ef5c21340",
   "metadata": {},
   "outputs": [
    {
     "name": "stdin",
     "output_type": "stream",
     "text": [
      "Pick a positive number integer 1\n"
     ]
    },
    {
     "name": "stdout",
     "output_type": "stream",
     "text": [
      "0\n",
      "1\n"
     ]
    }
   ],
   "source": [
    "# ii. The input function can be used to prompt for input and use that input in your python code. \n",
    "# Prompt the user to enter a positive number and write a loop that counts from 0 to that number. \n",
    "# (Hints: note that the input function returns a string, so you'll need to convert this to a numeric type.)\n",
    "pos_int_ii = int(input('Pick a positive number integer'))\n",
    "if pos_int_ii > 0:\n",
    "    for i in range(pos_int_ii + 1):\n",
    "        print(i)\n",
    "else:\n",
    "    print('That was not a positive integer, try again.')"
   ]
  },
  {
   "cell_type": "code",
   "execution_count": 79,
   "id": "1bdf758a-0512-4ee0-b56d-53b0c689faaa",
   "metadata": {},
   "outputs": [
    {
     "name": "stdin",
     "output_type": "stream",
     "text": [
      "Pick an odd number between 1 and 50 33\n"
     ]
    },
    {
     "name": "stdout",
     "output_type": "stream",
     "text": [
      "Number to skip is:  33\n",
      "Here is an odd number number:  1\n",
      "Here is an odd number number:  3\n",
      "Here is an odd number number:  5\n",
      "Here is an odd number number:  7\n",
      "Here is an odd number number:  9\n",
      "Here is an odd number number:  11\n",
      "Here is an odd number number:  13\n",
      "Here is an odd number number:  15\n",
      "Here is an odd number number:  17\n",
      "Here is an odd number number:  19\n",
      "Here is an odd number number:  21\n",
      "Here is an odd number number:  23\n",
      "Here is an odd number number:  25\n",
      "Here is an odd number number:  27\n",
      "Here is an odd number number:  29\n",
      "Here is an odd number number:  31\n",
      "Yikes! Skipping number:  33\n",
      "Here is an odd number number:  35\n",
      "Here is an odd number number:  37\n",
      "Here is an odd number number:  39\n",
      "Here is an odd number number:  41\n",
      "Here is an odd number number:  43\n",
      "Here is an odd number number:  45\n",
      "Here is an odd number number:  47\n",
      "Here is an odd number number:  49\n"
     ]
    }
   ],
   "source": [
    "# iii. Prompt the user for an odd number between 1 and 50. Use a loop and a break statement to continue prompting \n",
    "# the user if they enter invalid input. \n",
    "# (Hint: use the isdigit method on strings to determine this). \n",
    "# Use a loop and the continue statement to output all the odd numbers between 1 and 50, except for the number the user entered.\n",
    "pos_odd_int = int(input('Pick an odd number between 1 and 50'))\n",
    "if pos_odd_int % 2 == 1 and pos_odd_int >= 0 and pos_odd_int < 50:\n",
    "    print('Number to skip is: ', pos_odd_int)\n",
    "for i in range(1, 51):\n",
    "    if pos_odd_int % 2 == 0 or pos_odd_int <= 0 or pos_odd_int > 50:\n",
    "        print('Please try again')\n",
    "        break\n",
    "    if i % 2 == 0:\n",
    "        continue\n",
    "    if i == pos_odd_int:\n",
    "        print('Yikes! Skipping number: ', i)\n",
    "    else:\n",
    "        print('Here is an odd number number: ', i)"
   ]
  },
  {
   "cell_type": "markdown",
   "id": "d2a7e183-ca53-4560-ba71-7aafbaefcb3e",
   "metadata": {},
   "source": [
    "### 3. Fizzbuzz\n",
    "One of the most common interview questions for entry-level programmers is the FizzBuzz test. Developed by Imran Ghory, the test is designed to test basic looping and conditional logic skills.\n",
    "\n",
    " - Write a program that prints the numbers from 1 to 100.\n",
    " - For multiples of three print \"Fizz\" instead of the number\n",
    " - For the multiples of five print \"Buzz\".\n",
    " - For numbers which are multiples of both three and five print \"FizzBuzz\"."
   ]
  },
  {
   "cell_type": "code",
   "execution_count": 23,
   "id": "19840ff8-44b8-4e40-9275-8e836d309241",
   "metadata": {
    "tags": []
   },
   "outputs": [
    {
     "name": "stdout",
     "output_type": "stream",
     "text": [
      "1\n",
      "2\n",
      "Fizz\n",
      "4\n",
      "Buzz\n",
      "Fizz\n",
      "7\n",
      "8\n",
      "Fizz\n",
      "Buzz\n",
      "11\n",
      "Fizz\n",
      "13\n",
      "14\n",
      "FizzBuzz\n",
      "16\n",
      "17\n",
      "Fizz\n",
      "19\n",
      "Buzz\n",
      "Fizz\n",
      "22\n",
      "23\n",
      "Fizz\n",
      "Buzz\n",
      "26\n",
      "Fizz\n",
      "28\n",
      "29\n",
      "FizzBuzz\n",
      "31\n",
      "32\n",
      "Fizz\n",
      "34\n",
      "Buzz\n",
      "Fizz\n",
      "37\n",
      "38\n",
      "Fizz\n",
      "Buzz\n",
      "41\n",
      "Fizz\n",
      "43\n",
      "44\n",
      "FizzBuzz\n",
      "46\n",
      "47\n",
      "Fizz\n",
      "49\n",
      "Buzz\n",
      "Fizz\n",
      "52\n",
      "53\n",
      "Fizz\n",
      "Buzz\n",
      "56\n",
      "Fizz\n",
      "58\n",
      "59\n",
      "FizzBuzz\n",
      "61\n",
      "62\n",
      "Fizz\n",
      "64\n",
      "Buzz\n",
      "Fizz\n",
      "67\n",
      "68\n",
      "Fizz\n",
      "Buzz\n",
      "71\n",
      "Fizz\n",
      "73\n",
      "74\n",
      "FizzBuzz\n",
      "76\n",
      "77\n",
      "Fizz\n",
      "79\n",
      "Buzz\n",
      "Fizz\n",
      "82\n",
      "83\n",
      "Fizz\n",
      "Buzz\n",
      "86\n",
      "Fizz\n",
      "88\n",
      "89\n",
      "FizzBuzz\n",
      "91\n",
      "92\n",
      "Fizz\n",
      "94\n",
      "Buzz\n",
      "Fizz\n",
      "97\n",
      "98\n",
      "Fizz\n",
      "Buzz\n"
     ]
    }
   ],
   "source": [
    "for i in range (1,101):\n",
    "    if i % 3 == 0 and i % 5 == 0:\n",
    "        print('FizzBuzz')\n",
    "    elif i % 3 == 0:\n",
    "        print('Fizz')\n",
    "    elif i % 5 == 0:\n",
    "        print('Buzz')\n",
    "    else:\n",
    "        print(i)"
   ]
  },
  {
   "cell_type": "markdown",
   "id": "a973f9d7-d3e5-402a-9637-4ba8cb4c110b",
   "metadata": {},
   "source": [
    "### 4. Display a table of powers.\n",
    " - Prompt the user to enter an integer\n",
    " - Display a table of squares and cubes from 1 to the value entered\n",
    " - Ask if the user wants to continue\n",
    " - Assume that the user will enter valid data\n",
    " - Only continue if the user agrees to\n"
   ]
  },
  {
   "cell_type": "code",
   "execution_count": 3,
   "id": "ba718362-485c-48ad-90df-283e4d182ac2",
   "metadata": {
    "tags": []
   },
   "outputs": [
    {
     "name": "stdin",
     "output_type": "stream",
     "text": [
      "What number would you like to go up to? 5\n",
      "Are you sure you want to continue? (Y/N) y\n"
     ]
    },
    {
     "name": "stdout",
     "output_type": "stream",
     "text": [
      "+----------+-----------+---------+\n",
      "|   number |   squared |   cubed |\n",
      "+==========+===========+=========+\n",
      "|        1 |         1 |       1 |\n",
      "+----------+-----------+---------+\n",
      "|        2 |         4 |       8 |\n",
      "+----------+-----------+---------+\n",
      "|        3 |         9 |      27 |\n",
      "+----------+-----------+---------+\n",
      "|        4 |        16 |      64 |\n",
      "+----------+-----------+---------+\n",
      "|        5 |        25 |     125 |\n",
      "+----------+-----------+---------+\n"
     ]
    }
   ],
   "source": [
    "# import module\n",
    "from tabulate import tabulate\n",
    "\n",
    "# prompt\n",
    "user_int = int(input('What number would you like to go up to?'))\n",
    "continue_prompt = input('Are you sure you want to continue? (Y/N)')\n",
    "\n",
    "# initialize table data\n",
    "table_data = []\n",
    "\n",
    "# if prompt is 'y', append row to table data with square and cube\n",
    "for i in range(1, user_int + 1):\n",
    "    if continue_prompt.lower() == 'y':\n",
    "        table_data.append ([i, i ** 2, i ** 3])\n",
    "\n",
    "\n",
    "# create header\n",
    "head = ['number', 'squared', 'cubed']\n",
    "\n",
    "# print table\n",
    "print(tabulate(table_data, headers=head, tablefmt=\"grid\"))\n"
   ]
  },
  {
   "cell_type": "markdown",
   "id": "23e6284c-2fdd-4449-8fad-e05859f7a916",
   "metadata": {
    "tags": []
   },
   "source": [
    "### 5. Convert given number grades into letter grades.\n",
    " - Prompt the user for a numerical grade from 0 to 100\n",
    " - Display the corresponding letter grade\n",
    " - Prompt the user to continue\n",
    " - Assume that the user will enter valid integers for the grades\n",
    " - The application should only continue if the user agrees to\n",
    " - Grade Ranges:\n",
    "\n",
    "     - A : 100 - 88\n",
    "     - B : 87 - 80\n",
    "     - C : 79 - 67\n",
    "     - D : 66 - 60\n",
    "     - F : 59 - 0"
   ]
  },
  {
   "cell_type": "code",
   "execution_count": 81,
   "id": "e3ae6d3f-7d24-447b-967a-0cc0e1c34d84",
   "metadata": {
    "tags": []
   },
   "outputs": [
    {
     "name": "stdin",
     "output_type": "stream",
     "text": [
      "What was your grade? 98\n",
      "Do you want to continue? (Y/N) n\n"
     ]
    },
    {
     "name": "stdout",
     "output_type": "stream",
     "text": [
      "Will not continue\n"
     ]
    }
   ],
   "source": [
    "num_grade = int(input('What was your grade?'))\n",
    "continue_prompt = input('Do you want to continue? (Y/N)')\n",
    "                \n",
    "if continue_prompt.lower() == 'y':\n",
    "    if num_grade <= 100 and  num_grade >= 88:\n",
    "        print('A')\n",
    "    elif num_grade < 88 and num_grade >= 80:\n",
    "        print('B')\n",
    "    elif num_grade < 80 and num_grade >= 67:\n",
    "        print('C')\n",
    "    elif num_grade < 67 and num_grade >= 60:\n",
    "        print('D')\n",
    "    else:\n",
    "        print('F')\n",
    "else:\n",
    "    print('Will not continue')\n"
   ]
  },
  {
   "cell_type": "markdown",
   "id": "8551d3fd-37f6-47e2-8e24-7967233b2e5c",
   "metadata": {},
   "source": [
    "### 6. Create a list of dictionaries where each dictionary represents a book that you have read. Each dictionary in the list should have the keys title, author, and genre. Loop through the list and print out information about each book.\n",
    "\n"
   ]
  },
  {
   "cell_type": "code",
   "execution_count": 35,
   "id": "f8e357ed-2ae2-4d06-8c1f-7d02081c2e63",
   "metadata": {
    "tags": []
   },
   "outputs": [
    {
     "name": "stdout",
     "output_type": "stream",
     "text": [
      "Title:  The Way of Kings Author:  Brandon Sanderson Genre:  Fantasy\n",
      "Title:  Words of Radiance Author:  Brandon Sanderson Genre:  Fantasy\n",
      "Title:  Man's Search for Meaning Author:  Viktor Frankl Genre:  Autobiography\n"
     ]
    },
    {
     "name": "stdin",
     "output_type": "stream",
     "text": [
      "Search for all books in genre. Genre: Autobiography\n"
     ]
    },
    {
     "name": "stdout",
     "output_type": "stream",
     "text": [
      "Man's Search for Meaning\n"
     ]
    }
   ],
   "source": [
    "# a. Prompt the user to enter a genre, then loop through your books list and print out the \n",
    "# titles of all the books in that genre.\n",
    "\n",
    "book_list = (\n",
    "    {'title': 'The Way of Kings', 'author': 'Brandon Sanderson', 'genre': 'Fantasy'},\n",
    "    {'title': 'Words of Radiance', 'author': 'Brandon Sanderson', 'genre': 'Fantasy'},\n",
    "    {'title': \"Man's Search for Meaning\", 'author': 'Viktor Frankl', 'genre': 'Autobiography'}\n",
    ")\n",
    "for i in book_list:\n",
    "    print(\"Title: \", i['title'], \"Author: \", i['author'], \"Genre: \", i['genre'])\n",
    "\n",
    "choose_genre = input('Search for all books in genre. Genre:')\n",
    "for i in book_list:\n",
    "    if choose_genre == i['genre']:\n",
    "        print(i['title'])"
   ]
  }
 ],
 "metadata": {
  "kernelspec": {
   "display_name": "Python 3 (ipykernel)",
   "language": "python",
   "name": "python3"
  },
  "language_info": {
   "codemirror_mode": {
    "name": "ipython",
    "version": 3
   },
   "file_extension": ".py",
   "mimetype": "text/x-python",
   "name": "python",
   "nbconvert_exporter": "python",
   "pygments_lexer": "ipython3",
   "version": "3.11.3"
  }
 },
 "nbformat": 4,
 "nbformat_minor": 5
}
